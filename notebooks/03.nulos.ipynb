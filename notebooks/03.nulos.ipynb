{
 "cells": [
  {
   "cell_type": "markdown",
   "id": "e28e0ee2",
   "metadata": {},
   "source": [
    "# nulos a gestionar\n",
    "\n",
    "- **price** -> tiene 40 nulos (2%)\n",
    "- **discount** -> tiene 40 nulos (2%)\n",
    "- **payment method** -> tiene 1753 nulos (87.65%) \n",
    "- **shipping method** -> tiene 1753 nulos (87.65%) \n",
    "- **customer age** -> tiene 40 nulos (2%),\n",
    "- **coupon used** -> tiene 1753 nulos (87.65%)"
   ]
  }
 ],
 "metadata": {
  "language_info": {
   "name": "python"
  }
 },
 "nbformat": 4,
 "nbformat_minor": 5
}
