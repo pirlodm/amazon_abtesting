{
 "cells": [
  {
   "cell_type": "code",
   "execution_count": 1,
   "id": "cf94e99f",
   "metadata": {},
   "outputs": [],
   "source": [
    "# tratamientos de datos\n",
    "import pandas as pd\n",
    "pd.set_option('display.max_columns', None)\n",
    "#-------------------------------\n",
    "\n",
    "# exploracion de archivos\n",
    "import sys\n",
    "sys.path.append('../')\n",
    "#-------------------------------\n",
    "\n",
    "#funciones personalizadas\n",
    "from src import sp_limpieza as sl\n",
    "#-------------------------------\n"
   ]
  },
  {
   "cell_type": "code",
   "execution_count": 2,
   "id": "e0ea9afb",
   "metadata": {},
   "outputs": [
    {
     "data": {
      "text/html": [
       "<div>\n",
       "<style scoped>\n",
       "    .dataframe tbody tr th:only-of-type {\n",
       "        vertical-align: middle;\n",
       "    }\n",
       "\n",
       "    .dataframe tbody tr th {\n",
       "        vertical-align: top;\n",
       "    }\n",
       "\n",
       "    .dataframe thead th {\n",
       "        text-align: right;\n",
       "    }\n",
       "</style>\n",
       "<table border=\"1\" class=\"dataframe\">\n",
       "  <thead>\n",
       "    <tr style=\"text-align: right;\">\n",
       "      <th></th>\n",
       "      <th>User Id</th>\n",
       "      <th>Group</th>\n",
       "      <th>Visit Date</th>\n",
       "      <th>Conversion</th>\n",
       "      <th>Product Category</th>\n",
       "      <th>Product Id</th>\n",
       "      <th>Product Name</th>\n",
       "      <th>Quantity</th>\n",
       "      <th>Price</th>\n",
       "      <th>Discount</th>\n",
       "      <th>Total Value</th>\n",
       "      <th>Payment Method</th>\n",
       "      <th>Shipping Method</th>\n",
       "      <th>Region</th>\n",
       "      <th>Customer Age</th>\n",
       "      <th>Customer Gender</th>\n",
       "      <th>Device</th>\n",
       "      <th>Session Duration</th>\n",
       "      <th>Coupon Used</th>\n",
       "      <th>Browser</th>\n",
       "      <th>Referral Source</th>\n",
       "    </tr>\n",
       "  </thead>\n",
       "  <tbody>\n",
       "    <tr>\n",
       "      <th>897</th>\n",
       "      <td>898</td>\n",
       "      <td>B</td>\n",
       "      <td>2022-03-28</td>\n",
       "      <td>0</td>\n",
       "      <td>ELECTRONICS</td>\n",
       "      <td>P1641</td>\n",
       "      <td>Camera</td>\n",
       "      <td>0</td>\n",
       "      <td>944,53</td>\n",
       "      <td>0,24</td>\n",
       "      <td>0,0</td>\n",
       "      <td>NaN</td>\n",
       "      <td>NaN</td>\n",
       "      <td>Central</td>\n",
       "      <td>53.0</td>\n",
       "      <td>F</td>\n",
       "      <td>Mobile</td>\n",
       "      <td>23</td>\n",
       "      <td>NaN</td>\n",
       "      <td>Safaaaaari</td>\n",
       "      <td>Social</td>\n",
       "    </tr>\n",
       "    <tr>\n",
       "      <th>1327</th>\n",
       "      <td>1328</td>\n",
       "      <td>B</td>\n",
       "      <td>2022-02-17</td>\n",
       "      <td>0</td>\n",
       "      <td>SPORTS</td>\n",
       "      <td>P1542</td>\n",
       "      <td>Running Shoes</td>\n",
       "      <td>0</td>\n",
       "      <td>59,12</td>\n",
       "      <td>0,08</td>\n",
       "      <td>0,0</td>\n",
       "      <td>NaN</td>\n",
       "      <td>NaN</td>\n",
       "      <td>North</td>\n",
       "      <td>54.0</td>\n",
       "      <td>M</td>\n",
       "      <td>Mobile</td>\n",
       "      <td>23</td>\n",
       "      <td>NaN</td>\n",
       "      <td>Safaaaaari</td>\n",
       "      <td>Social</td>\n",
       "    </tr>\n",
       "    <tr>\n",
       "      <th>701</th>\n",
       "      <td>702</td>\n",
       "      <td>A</td>\n",
       "      <td>2022-03-23</td>\n",
       "      <td>0</td>\n",
       "      <td>BEAUTY</td>\n",
       "      <td>P1290</td>\n",
       "      <td>Mascara</td>\n",
       "      <td>0</td>\n",
       "      <td>72,52</td>\n",
       "      <td>0,12</td>\n",
       "      <td>0,0</td>\n",
       "      <td>NaN</td>\n",
       "      <td>NaN</td>\n",
       "      <td>Central</td>\n",
       "      <td>44.0</td>\n",
       "      <td>F</td>\n",
       "      <td>Desktop</td>\n",
       "      <td>27</td>\n",
       "      <td>NaN</td>\n",
       "      <td>Ottttther</td>\n",
       "      <td>Organic</td>\n",
       "    </tr>\n",
       "    <tr>\n",
       "      <th>1754</th>\n",
       "      <td>1755</td>\n",
       "      <td>B</td>\n",
       "      <td>2022-01-19</td>\n",
       "      <td>0</td>\n",
       "      <td>BOOKS</td>\n",
       "      <td>P1266</td>\n",
       "      <td>Mystery</td>\n",
       "      <td>0</td>\n",
       "      <td>19,5</td>\n",
       "      <td>NaN</td>\n",
       "      <td>0,0</td>\n",
       "      <td>NaN</td>\n",
       "      <td>NaN</td>\n",
       "      <td>East</td>\n",
       "      <td>51.0</td>\n",
       "      <td>M</td>\n",
       "      <td>Mobile</td>\n",
       "      <td>28</td>\n",
       "      <td>NaN</td>\n",
       "      <td>Chrooome</td>\n",
       "      <td>PAID</td>\n",
       "    </tr>\n",
       "    <tr>\n",
       "      <th>1819</th>\n",
       "      <td>1820</td>\n",
       "      <td>A</td>\n",
       "      <td>2022-02-15</td>\n",
       "      <td>0</td>\n",
       "      <td>TOYS</td>\n",
       "      <td>P1580</td>\n",
       "      <td>Action Figure</td>\n",
       "      <td>0</td>\n",
       "      <td>40,99</td>\n",
       "      <td>0,03</td>\n",
       "      <td>0,0</td>\n",
       "      <td>NaN</td>\n",
       "      <td>NaN</td>\n",
       "      <td>West</td>\n",
       "      <td>43.0</td>\n",
       "      <td>F</td>\n",
       "      <td>Mobile</td>\n",
       "      <td>7</td>\n",
       "      <td>NaN</td>\n",
       "      <td>Ottttther</td>\n",
       "      <td>Email</td>\n",
       "    </tr>\n",
       "  </tbody>\n",
       "</table>\n",
       "</div>"
      ],
      "text/plain": [
       "      User Id Group  Visit Date  Conversion Product Category Product Id  \\\n",
       "897       898     B  2022-03-28           0      ELECTRONICS      P1641   \n",
       "1327     1328     B  2022-02-17           0           SPORTS      P1542   \n",
       "701       702     A  2022-03-23           0           BEAUTY      P1290   \n",
       "1754     1755     B  2022-01-19           0            BOOKS      P1266   \n",
       "1819     1820     A  2022-02-15           0             TOYS      P1580   \n",
       "\n",
       "       Product Name  Quantity   Price Discount Total Value Payment Method  \\\n",
       "897          Camera         0  944,53     0,24         0,0            NaN   \n",
       "1327  Running Shoes         0   59,12     0,08         0,0            NaN   \n",
       "701         Mascara         0   72,52     0,12         0,0            NaN   \n",
       "1754        Mystery         0    19,5      NaN         0,0            NaN   \n",
       "1819  Action Figure         0   40,99     0,03         0,0            NaN   \n",
       "\n",
       "     Shipping Method   Region  Customer Age Customer Gender   Device  \\\n",
       "897              NaN  Central          53.0               F   Mobile   \n",
       "1327             NaN    North          54.0               M   Mobile   \n",
       "701              NaN  Central          44.0               F  Desktop   \n",
       "1754             NaN     East          51.0               M   Mobile   \n",
       "1819             NaN     West          43.0               F   Mobile   \n",
       "\n",
       "      Session Duration Coupon Used     Browser Referral Source  \n",
       "897                 23         NaN  Safaaaaari          Social  \n",
       "1327                23         NaN  Safaaaaari          Social  \n",
       "701                 27         NaN   Ottttther         Organic  \n",
       "1754                28         NaN    Chrooome            PAID  \n",
       "1819                 7         NaN   Ottttther           Email  "
      ]
     },
     "execution_count": 2,
     "metadata": {},
     "output_type": "execute_result"
    }
   ],
   "source": [
    "# exploracion de archivos y cambio df_raw para luego copiarlo\n",
    "df_raw= pd.read_csv('../data/data_raw.csv')\n",
    "df_raw.sample(5)\n",
    "#-------------------------------\n"
   ]
  },
  {
   "cell_type": "code",
   "execution_count": 3,
   "id": "b4574421",
   "metadata": {},
   "outputs": [],
   "source": [
    "# copia del dataframe original\n",
    "df = df_raw.copy()\n",
    "#-------------------------------\n"
   ]
  },
  {
   "cell_type": "markdown",
   "id": "0ef7f10f",
   "metadata": {},
   "source": [
    "### CAMBIOS NOMBRES COLUMNAS"
   ]
  },
  {
   "cell_type": "code",
   "execution_count": 4,
   "id": "3e08f19f",
   "metadata": {},
   "outputs": [],
   "source": [
    "# limpieza de columnas, clumnas en minusculas y sin espacios\n",
    "df.columns =  df.columns.str.replace(' ', '_').str.lower()\n",
    "#-------------------------------\n"
   ]
  },
  {
   "cell_type": "markdown",
   "id": "0c768a8d",
   "metadata": {},
   "source": [
    "### visit_date a fecha\n"
   ]
  },
  {
   "cell_type": "code",
   "execution_count": 5,
   "id": "9ca56bec",
   "metadata": {},
   "outputs": [],
   "source": [
    "# al no poder cambiar a tipo fecha, lo hacemos manualmente\n",
    "df [\"visit_date\"] = pd.to_datetime(df['visit_date'],format='%Y-%m-%d')\n",
    "#-------------------------------"
   ]
  },
  {
   "cell_type": "markdown",
   "id": "b3214b93",
   "metadata": {},
   "source": [
    "### conversion crear conversion_str , crear yes o no"
   ]
  },
  {
   "cell_type": "code",
   "execution_count": 6,
   "id": "0748fbc5",
   "metadata": {},
   "outputs": [],
   "source": [
    "# creo columna conversion_str y la lleno con \"yes\" o \"no\"\n",
    "df[\"conversion_str\"] = df[\"conversion\"].apply(lambda x: \"yes\" if x == 1 else \"no\")\n",
    "#-------------------------------"
   ]
  },
  {
   "cell_type": "markdown",
   "id": "7839fdff",
   "metadata": {},
   "source": [
    "### product_categoy a cambiar fashhion\n"
   ]
  },
  {
   "cell_type": "code",
   "execution_count": 7,
   "id": "894af3bf",
   "metadata": {},
   "outputs": [],
   "source": [
    "#### cambiar product_categoy a miniscula y cambiar fashhion\n",
    "df[\"product_category\"] = df[\"product_category\"].str.lower().replace(\"fashhion\",\"fashion\")\n",
    "#-------------------------------\n"
   ]
  },
  {
   "cell_type": "markdown",
   "id": "269d9c46",
   "metadata": {},
   "source": [
    "### product_id quitar la \"p\" y cambiar a numero"
   ]
  },
  {
   "cell_type": "code",
   "execution_count": 8,
   "id": "7c38bc30",
   "metadata": {},
   "outputs": [],
   "source": [
    "# quitamos la \"P\" y cambiamos a int64\n",
    "df[\"product_id\"] = df[\"product_id\"].str.replace(\"P\", \"\")\n",
    "df[\"product_id\"] = df[\"product_id\"].astype(\"int64\")\n",
    "#-------------------------------"
   ]
  },
  {
   "cell_type": "markdown",
   "id": "75b50fe9",
   "metadata": {},
   "source": [
    "### product_name cambiar espacios por \"_\" FUNCION"
   ]
  },
  {
   "cell_type": "code",
   "execution_count": 9,
   "id": "6d0a6179",
   "metadata": {},
   "outputs": [],
   "source": [
    "sl.minuscula(df)\n"
   ]
  },
  {
   "cell_type": "markdown",
   "id": "4cd28d8e",
   "metadata": {},
   "source": [
    "### price cambiamos , por . y cambiar a tipo float"
   ]
  },
  {
   "cell_type": "code",
   "execution_count": 10,
   "id": "c9cec9e9",
   "metadata": {},
   "outputs": [],
   "source": [
    "sl.comas(df)"
   ]
  },
  {
   "cell_type": "markdown",
   "id": "05b54837",
   "metadata": {},
   "source": [
    "### payment method cambiar cambiar espacios por \"_\"\n"
   ]
  },
  {
   "cell_type": "code",
   "execution_count": 11,
   "id": "40180a9e",
   "metadata": {},
   "outputs": [],
   "source": [
    "sl.espacios(df)"
   ]
  },
  {
   "cell_type": "markdown",
   "id": "ffc0a0fa",
   "metadata": {},
   "source": [
    "### map de browser"
   ]
  },
  {
   "cell_type": "code",
   "execution_count": 12,
   "id": "726313de",
   "metadata": {},
   "outputs": [],
   "source": [
    "# map de browser\n",
    "dicc_map = {'safaaaaari' : 'safari',\n",
    "            'ottttther': 'other',\n",
    "            'firefoxxxxxx' : 'firefox',\n",
    "            'eddddge': 'edge',\n",
    "            'chrooome' : 'chrome'}\n",
    "# -------------------------------"
   ]
  },
  {
   "cell_type": "code",
   "execution_count": 13,
   "id": "1c41067f",
   "metadata": {},
   "outputs": [],
   "source": [
    "# aplicamos el map a browser\n",
    "df[\"browser\"] = df[\"browser\"].map(dicc_map)\n",
    "# -------------------------------"
   ]
  },
  {
   "cell_type": "code",
   "execution_count": 14,
   "id": "3970624e",
   "metadata": {},
   "outputs": [],
   "source": [
    "# guardamos el dataframe limpio en otro carpeta\n",
    "\n",
    "df.to_csv('../data/data_limpios.csv', index = False)\n",
    "\n",
    "#-------------------------------\n"
   ]
  }
 ],
 "metadata": {
  "kernelspec": {
   "display_name": "Python 3",
   "language": "python",
   "name": "python3"
  },
  "language_info": {
   "codemirror_mode": {
    "name": "ipython",
    "version": 3
   },
   "file_extension": ".py",
   "mimetype": "text/x-python",
   "name": "python",
   "nbconvert_exporter": "python",
   "pygments_lexer": "ipython3",
   "version": "3.13.7"
  }
 },
 "nbformat": 4,
 "nbformat_minor": 5
}
