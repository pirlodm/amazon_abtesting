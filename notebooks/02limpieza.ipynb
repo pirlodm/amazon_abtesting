{
 "cells": [
  {
   "cell_type": "markdown",
   "id": "a4bafdb3",
   "metadata": {},
   "source": [
    "# Cosas a limpiar\n",
    "\n",
    "- **Visit Date** -> cambiar a tipo fecha\n",
    "- **Conversion** -> str o int?\n",
    "- **product category** -> poner todo en miniscula, cambiar fashhion a fashion\n",
    "- **product id** -> quitar p y cambiar a numero?\n",
    "- **product name** cambiar espacios \"_\"\n",
    "- **price** -> tiene 40 nulos (2%), cambiar \",\" por \".\" y cambio a float\n",
    "- **discount** -> tiene 40 nulos (2%), cambiar \",\" por \".\" y cambio a float\n",
    "- **total valeu** -> cambiar \",\" por \".\" y cambio a float\n",
    "- **payment method** -> tiene 1753 nulos (87.65%), cambiar espacios \"_\"\n",
    "- **shipping method** -> tiene 1753 nulos (87.65%) , cambiar espacios \"_\"\n",
    "- **customer age** -> tiene 40 nulos (2%), y pasar a tipo int\n",
    "- **device** -> poner todo en miniscula\n",
    "- **coupon used** -> tiene 1753 nulos (87.65%)\n",
    "- **browser** -> estan mal escritar, cambiar las categorias\n",
    "- **referral source** -> cambiar a minusculas\n",
    "\n"
   ]
  }
 ],
 "metadata": {
  "language_info": {
   "name": "python"
  }
 },
 "nbformat": 4,
 "nbformat_minor": 5
}
